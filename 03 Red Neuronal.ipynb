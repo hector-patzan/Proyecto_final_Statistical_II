{
 "cells": [
  {
   "cell_type": "markdown",
   "metadata": {},
   "source": [
    "## <b> Carga de librerias </b>"
   ]
  },
  {
   "cell_type": "code",
   "execution_count": null,
   "metadata": {},
   "outputs": [],
   "source": [
    "import pandas as pd \n",
    "import numpy as np \n",
    "import time\n",
    "from sklearn.preprocessing import StandardScaler\n",
    "from sklearn.model_selection import train_test_split\n",
    "from sklearn.metrics import accuracy_score\n",
    "\n",
    "# red neuronal\n",
    "import keras \n",
    "from keras.models import Sequential\n",
    "from keras.layers import Dense\n",
    "\n",
    "# K-folds\n",
    "from keras.wrappers.scikit_learn import KerasClassifier\n",
    "from sklearn.model_selection import cross_val_score\n",
    "from sklearn.model_selection import KFold\n",
    "\n",
    "# Grid Search \n",
    "from sklearn.model_selection import GridSearchCV"
   ]
  },
  {
   "cell_type": "markdown",
   "metadata": {},
   "source": [
    "## <b> Carga de datos </b>\n",
    "0 Standard,\n",
    "1 Poor,\n",
    "2 Good"
   ]
  },
  {
   "cell_type": "code",
   "execution_count": null,
   "metadata": {},
   "outputs": [],
   "source": [
    "dataset = pd.read_csv(r'dataset procesados/modelado.txt', sep=';')\n",
    "dict_cod = {'Standard':0, 'Poor':1, 'Good':2}\n",
    "dataset['Credit_Score'] = dataset['Credit_Score'].map(dict_cod)\n",
    "dataset.head()"
   ]
  },
  {
   "cell_type": "markdown",
   "metadata": {},
   "source": [
    "## <b> Balance de datos </b>"
   ]
  },
  {
   "cell_type": "code",
   "execution_count": null,
   "metadata": {},
   "outputs": [],
   "source": [
    "dataset['Credit_Score'].value_counts()"
   ]
  },
  {
   "cell_type": "code",
   "execution_count": null,
   "metadata": {},
   "outputs": [],
   "source": [
    "nGood = len(dataset[dataset['Credit_Score']==2])\n",
    "standard = dataset[dataset['Credit_Score']==0]\n",
    "poor = dataset[dataset['Credit_Score']==1]\n",
    "good = dataset[dataset['Credit_Score']==2]\n",
    "\n",
    "\n",
    "standard = standard.sample(2*nGood)\n",
    "dataset = pd.concat([standard, poor, good])\n",
    "dataset = dataset.sample(frac=1)"
   ]
  },
  {
   "cell_type": "code",
   "execution_count": null,
   "metadata": {},
   "outputs": [],
   "source": [
    "dataset['Credit_Score'].value_counts()"
   ]
  },
  {
   "cell_type": "markdown",
   "metadata": {},
   "source": [
    "## <b> Verificación de Nulos </b>"
   ]
  },
  {
   "cell_type": "code",
   "execution_count": null,
   "metadata": {},
   "outputs": [],
   "source": [
    "dataset.isnull().values.any()"
   ]
  },
  {
   "cell_type": "markdown",
   "metadata": {},
   "source": [
    "## <b> Definición de datos para modelado </b>"
   ]
  },
  {
   "cell_type": "markdown",
   "metadata": {},
   "source": [
    "### Variables"
   ]
  },
  {
   "cell_type": "code",
   "execution_count": null,
   "metadata": {},
   "outputs": [],
   "source": [
    "X = dataset.iloc[:, dataset.columns != 'Credit_Score']\n",
    "y = dataset.loc[:, 'Credit_Score']"
   ]
  },
  {
   "cell_type": "code",
   "execution_count": null,
   "metadata": {},
   "outputs": [],
   "source": [
    "X_train, x_test, y_train, y_test = train_test_split(X,y, test_size=0.30, shuffle=True)"
   ]
  },
  {
   "cell_type": "markdown",
   "metadata": {},
   "source": [
    "## <b> Red neuronal </b>"
   ]
  },
  {
   "cell_type": "code",
   "execution_count": 35,
   "metadata": {},
   "outputs": [],
   "source": [
    "parametros = {\n",
    "# Tamaño de la muestra\n",
    "    'batch_size': [5,10], \n",
    "\n",
    "# Cantidad de epocas\n",
    "    'nb_epoch': [100,500],\n",
    "\n",
    "# Optimizador \n",
    "    'optimizer':['adam', 'SGD']\n",
    "}"
   ]
  },
  {
   "cell_type": "code",
   "execution_count": 36,
   "metadata": {},
   "outputs": [],
   "source": [
    "def red_grid_search_v1(optimizer):\n",
    "    clasificador = Sequential()\n",
    "    clasificador.add(Dense(input_dim=20, units=64, activation = 'relu', kernel_initializer='uniform') )\n",
    "    clasificador.add(Dense(units=128, activation = 'relu', kernel_initializer='uniform') )\n",
    "    clasificador.add(Dense(units=128, activation = 'relu', kernel_initializer='uniform') )\n",
    "    clasificador.add(Dense(units=128, activation = 'relu', kernel_initializer='uniform') )\n",
    "    clasificador.add(Dense(units=3, activation='relu', kernel_initializer='uniform'))\n",
    "    clasificador.compile(optimizer=optimizer, loss='binary_crossentropy', metrics=['accuracy'])\n",
    "    return clasificador"
   ]
  },
  {
   "cell_type": "code",
   "execution_count": 37,
   "metadata": {},
   "outputs": [
    {
     "name": "stderr",
     "output_type": "stream",
     "text": [
      "<ipython-input-37-f1420de21d75>:1: DeprecationWarning: KerasClassifier is deprecated, use Sci-Keras (https://github.com/adriangb/scikeras) instead. See https://www.adriangb.com/scikeras/stable/migration.html for help migrating.\n",
      "  clasificador_grid_search = KerasClassifier(build_fn=red_grid_search_v1)\n"
     ]
    }
   ],
   "source": [
    "clasificador_grid_search = KerasClassifier(build_fn=red_grid_search_v1)"
   ]
  },
  {
   "cell_type": "code",
   "execution_count": 38,
   "metadata": {},
   "outputs": [],
   "source": [
    "grid_out = GridSearchCV(estimator=clasificador_grid_search,\n",
    "                        param_grid=parametros,\n",
    "                        cv=20,\n",
    "                        scoring='accuracy')"
   ]
  },
  {
   "cell_type": "code",
   "execution_count": 39,
   "metadata": {},
   "outputs": [
    {
     "name": "stdout",
     "output_type": "stream",
     "text": [
      "10960/10960 [==============================] - 25s 2ms/step - loss: 6.2373 - accuracy: 0.2157\n",
      "91/91 [==============================] - 0s 2ms/step\n",
      "10960/10960 [==============================] - 25s 2ms/step - loss: 6.2356 - accuracy: 0.4337\n",
      "91/91 [==============================] - 0s 1ms/step\n",
      "10960/10960 [==============================] - 25s 2ms/step - loss: 3.8184 - accuracy: 0.2362\n",
      "91/91 [==============================] - 0s 1ms/step\n",
      "10960/10960 [==============================] - 25s 2ms/step - loss: 6.2386 - accuracy: 0.2162\n",
      "91/91 [==============================] - 0s 1ms/step\n",
      "10960/10960 [==============================] - 24s 2ms/step - loss: 9.1520 - accuracy: 0.2157\n",
      "91/91 [==============================] - 0s 2ms/step\n",
      "10960/10960 [==============================] - 25s 2ms/step - loss: 9.1478 - accuracy: 0.4340\n",
      "91/91 [==============================] - 0s 1ms/step\n",
      "10960/10960 [==============================] - 24s 2ms/step - loss: 9.1500 - accuracy: 0.3502\n",
      "91/91 [==============================] - 0s 2ms/step\n",
      "10960/10960 [==============================] - 25s 2ms/step - loss: 9.1546 - accuracy: 0.2162\n",
      "91/91 [==============================] - 0s 1ms/step\n",
      "10960/10960 [==============================] - 25s 2ms/step - loss: 6.2348 - accuracy: 0.3512\n",
      "91/91 [==============================] - 0s 1ms/step\n",
      "10960/10960 [==============================] - 24s 2ms/step - loss: 3.3309 - accuracy: 0.3504\n",
      "91/91 [==============================] - 0s 1ms/step\n",
      "10960/10960 [==============================] - 25s 2ms/step - loss: 6.2360 - accuracy: 0.4335\n",
      "91/91 [==============================] - 0s 1ms/step\n",
      "10960/10960 [==============================] - 24s 2ms/step - loss: 6.2389 - accuracy: 0.4340\n",
      "91/91 [==============================] - 0s 1ms/step\n",
      "10960/10960 [==============================] - 25s 2ms/step - loss: 3.2960 - accuracy: 0.3509\n",
      "91/91 [==============================] - 0s 1ms/step\n",
      "10960/10960 [==============================] - 24s 2ms/step - loss: 12.0563 - accuracy: 0.4338\n",
      "91/91 [==============================] - 0s 1ms/step\n",
      "10960/10960 [==============================] - 25s 2ms/step - loss: 9.1453 - accuracy: 0.3511\n",
      "91/91 [==============================] - 0s 2ms/step\n",
      "10960/10960 [==============================] - 25s 2ms/step - loss: 6.2407 - accuracy: 0.2158\n",
      "91/91 [==============================] - 0s 1ms/step\n",
      "10960/10960 [==============================] - 25s 2ms/step - loss: 9.1522 - accuracy: 0.4335\n",
      "91/91 [==============================] - 0s 1ms/step\n",
      "10960/10960 [==============================] - 25s 2ms/step - loss: 9.1538 - accuracy: 0.3511\n",
      "91/91 [==============================] - 0s 2ms/step\n",
      "10960/10960 [==============================] - 25s 2ms/step - loss: 9.1492 - accuracy: 0.4339\n",
      "91/91 [==============================] - 0s 1ms/step\n",
      "10960/10960 [==============================] - 24s 2ms/step - loss: 12.0807 - accuracy: 0.4328\n",
      "91/91 [==============================] - 0s 1ms/step\n",
      "10960/10960 [==============================] - 24s 2ms/step - loss: 9.1499 - accuracy: 0.2156\n",
      "91/91 [==============================] - 0s 1ms/step\n",
      "10960/10960 [==============================] - 21s 2ms/step - loss: 3.3218 - accuracy: 0.3504\n",
      "91/91 [==============================] - 0s 1ms/step\n",
      "10960/10960 [==============================] - 23s 2ms/step - loss: 9.1499 - accuracy: 0.3504\n",
      "91/91 [==============================] - 0s 1ms/step\n",
      "10960/10960 [==============================] - 24s 2ms/step - loss: 9.1488 - accuracy: 0.4341\n",
      "91/91 [==============================] - 0s 1ms/step\n",
      "10960/10960 [==============================] - 21s 2ms/step - loss: 3.3188 - accuracy: 0.2157\n",
      "91/91 [==============================] - 0s 1ms/step\n",
      "10960/10960 [==============================] - 21s 2ms/step - loss: 6.3302 - accuracy: 0.4325\n",
      "91/91 [==============================] - 0s 1ms/step\n",
      "10960/10960 [==============================] - 21s 2ms/step - loss: 6.2363 - accuracy: 0.3502\n",
      "91/91 [==============================] - 0s 1ms/step\n",
      "10960/10960 [==============================] - 21s 2ms/step - loss: 9.1537 - accuracy: 0.4335\n",
      "91/91 [==============================] - 0s 1ms/step\n",
      "10960/10960 [==============================] - 22s 2ms/step - loss: 9.1506 - accuracy: 0.2156\n",
      "91/91 [==============================] - 0s 2ms/step\n",
      "10960/10960 [==============================] - 22s 2ms/step - loss: 9.1481 - accuracy: 0.4335\n",
      "91/91 [==============================] - 0s 1ms/step\n",
      "10960/10960 [==============================] - 21s 2ms/step - loss: 6.2360 - accuracy: 0.4147\n",
      "91/91 [==============================] - 0s 2ms/step\n",
      "10960/10960 [==============================] - 21s 2ms/step - loss: 3.3237 - accuracy: 0.2159\n",
      "91/91 [==============================] - 0s 2ms/step\n",
      "10960/10960 [==============================] - 22s 2ms/step - loss: 9.1598 - accuracy: 0.3508\n",
      "91/91 [==============================] - 0s 1ms/step\n",
      "10960/10960 [==============================] - 22s 2ms/step - loss: 6.2387 - accuracy: 0.3507\n",
      "91/91 [==============================] - 0s 1ms/step\n",
      "10960/10960 [==============================] - 20s 2ms/step - loss: 6.2337 - accuracy: 0.2165\n",
      "91/91 [==============================] - 0s 2ms/step\n",
      "10960/10960 [==============================] - 22s 2ms/step - loss: 8.7483 - accuracy: 0.3384\n",
      "91/91 [==============================] - 0s 1ms/step\n",
      "10960/10960 [==============================] - 21s 2ms/step - loss: 6.2340 - accuracy: 0.2159\n",
      "91/91 [==============================] - 0s 2ms/step\n",
      "10960/10960 [==============================] - 23s 2ms/step - loss: 9.1536 - accuracy: 0.3511\n",
      "91/91 [==============================] - 0s 2ms/step\n",
      "10960/10960 [==============================] - 19s 2ms/step - loss: 6.2381 - accuracy: 0.4337\n",
      "91/91 [==============================] - 0s 1ms/step\n",
      "10960/10960 [==============================] - 17s 1ms/step - loss: 3.3063 - accuracy: 0.2161\n",
      "91/91 [==============================] - 0s 1ms/step\n",
      "10960/10960 [==============================] - 22s 2ms/step - loss: 6.2364 - accuracy: 0.2156\n",
      "91/91 [==============================] - 0s 961us/step\n",
      "10960/10960 [==============================] - 22s 2ms/step - loss: 6.2356 - accuracy: 0.3504\n",
      "91/91 [==============================] - 0s 1ms/step\n",
      "10960/10960 [==============================] - 21s 2ms/step - loss: 6.2375 - accuracy: 0.2160\n",
      "91/91 [==============================] - 0s 1ms/step\n",
      "10960/10960 [==============================] - 21s 2ms/step - loss: 9.1492 - accuracy: 0.2160\n",
      "91/91 [==============================] - 0s 1ms/step\n",
      "10960/10960 [==============================] - 21s 2ms/step - loss: 3.3249 - accuracy: 0.3506\n",
      "91/91 [==============================] - 0s 1ms/step\n",
      "10960/10960 [==============================] - 20s 2ms/step - loss: 9.1481 - accuracy: 0.2157\n",
      "91/91 [==============================] - 0s 993us/step\n",
      "10960/10960 [==============================] - 19s 2ms/step - loss: 9.1497 - accuracy: 0.4339\n",
      "91/91 [==============================] - 0s 956us/step\n",
      "10960/10960 [==============================] - 20s 2ms/step - loss: 9.1537 - accuracy: 0.2162\n",
      "91/91 [==============================] - 0s 1ms/step\n",
      "10960/10960 [==============================] - 21s 2ms/step - loss: 6.2350 - accuracy: 0.4330\n",
      "91/91 [==============================] - 0s 1ms/step\n",
      "10960/10960 [==============================] - 26s 2ms/step - loss: 12.0572 - accuracy: 0.4339\n",
      "91/91 [==============================] - 0s 2ms/step\n",
      "10960/10960 [==============================] - 29s 3ms/step - loss: 6.2367 - accuracy: 0.4336\n",
      "91/91 [==============================] - 0s 2ms/step\n",
      "10960/10960 [==============================] - 28s 2ms/step - loss: 6.2369 - accuracy: 0.4340\n",
      "91/91 [==============================] - 0s 2ms/step\n",
      "10960/10960 [==============================] - 36s 3ms/step - loss: 6.2273 - accuracy: 0.3508\n",
      "91/91 [==============================] - 0s 1ms/step\n",
      "10960/10960 [==============================] - 44s 4ms/step - loss: 6.2553 - accuracy: 0.2649\n",
      "91/91 [==============================] - 1s 2ms/step\n",
      "10960/10960 [==============================] - 47s 4ms/step - loss: 6.2336 - accuracy: 0.3502\n",
      "91/91 [==============================] - 0s 3ms/step\n",
      "10960/10960 [==============================] - 48s 4ms/step - loss: 9.1454 - accuracy: 0.2157\n",
      "91/91 [==============================] - 0s 2ms/step\n",
      "10960/10960 [==============================] - 46s 4ms/step - loss: 9.1525 - accuracy: 0.3506\n",
      "91/91 [==============================] - 1s 4ms/step\n",
      "10960/10960 [==============================] - 47s 4ms/step - loss: 9.1538 - accuracy: 0.2158\n",
      "91/91 [==============================] - 0s 3ms/step\n",
      "10960/10960 [==============================] - 47s 4ms/step - loss: 3.3272 - accuracy: 0.2156\n",
      "91/91 [==============================] - 0s 3ms/step\n",
      "10960/10960 [==============================] - 50s 4ms/step - loss: 9.1564 - accuracy: 0.3513\n",
      "91/91 [==============================] - 0s 3ms/step\n",
      "10960/10960 [==============================] - 43s 4ms/step - loss: 12.0640 - accuracy: 0.4335\n",
      "91/91 [==============================] - 0s 3ms/step\n",
      "10960/10960 [==============================] - 44s 4ms/step - loss: 6.2358 - accuracy: 0.2159\n",
      "91/91 [==============================] - 0s 3ms/step\n",
      "10960/10960 [==============================] - 43s 4ms/step - loss: 6.2364 - accuracy: 0.4337\n",
      "91/91 [==============================] - 0s 2ms/step\n",
      "10960/10960 [==============================] - 40s 4ms/step - loss: 3.3275 - accuracy: 0.3499\n",
      "91/91 [==============================] - 0s 2ms/step\n",
      "10960/10960 [==============================] - 39s 3ms/step - loss: 9.1516 - accuracy: 0.3509\n",
      "91/91 [==============================] - 0s 3ms/step\n",
      "10960/10960 [==============================] - 43s 4ms/step - loss: 9.1478 - accuracy: 0.2157\n",
      "91/91 [==============================] - 0s 2ms/step\n",
      "10960/10960 [==============================] - 38s 3ms/step - loss: 9.1498 - accuracy: 0.4339\n",
      "91/91 [==============================] - 0s 2ms/step\n",
      "10960/10960 [==============================] - 41s 4ms/step - loss: 6.2333 - accuracy: 0.3503\n",
      "91/91 [==============================] - 0s 2ms/step\n",
      "10960/10960 [==============================] - 40s 4ms/step - loss: 3.3187 - accuracy: 0.3511\n",
      "91/91 [==============================] - 0s 3ms/step\n",
      "10960/10960 [==============================] - 41s 4ms/step - loss: 6.2390 - accuracy: 0.3505\n",
      "91/91 [==============================] - 0s 3ms/step\n",
      "10960/10960 [==============================] - 41s 4ms/step - loss: 9.1505 - accuracy: 0.2158\n",
      "91/91 [==============================] - 0s 2ms/step\n",
      "10960/10960 [==============================] - 40s 4ms/step - loss: 9.1502 - accuracy: 0.2159\n",
      "91/91 [==============================] - 0s 2ms/step\n",
      "10960/10960 [==============================] - 40s 4ms/step - loss: 3.2949 - accuracy: 0.4326\n",
      "91/91 [==============================] - 0s 2ms/step\n",
      "10960/10960 [==============================] - 42s 4ms/step - loss: 9.1478 - accuracy: 0.3507\n",
      "91/91 [==============================] - 0s 2ms/step\n",
      "10960/10960 [==============================] - 39s 3ms/step - loss: 9.1531 - accuracy: 0.4333\n",
      "91/91 [==============================] - 0s 3ms/step\n",
      "10960/10960 [==============================] - 40s 4ms/step - loss: 9.1448 - accuracy: 0.3497\n",
      "91/91 [==============================] - 0s 2ms/step\n",
      "10960/10960 [==============================] - 40s 4ms/step - loss: 6.2340 - accuracy: 0.4333\n",
      "91/91 [==============================] - 0s 3ms/step\n",
      "10960/10960 [==============================] - 41s 4ms/step - loss: 9.1540 - accuracy: 0.2158\n",
      "91/91 [==============================] - 0s 2ms/step\n",
      "10960/10960 [==============================] - 41s 4ms/step - loss: 6.2495 - accuracy: 0.3506\n",
      "91/91 [==============================] - 0s 3ms/step\n",
      "10960/10960 [==============================] - 39s 3ms/step - loss: 9.1563 - accuracy: 0.4328\n",
      "91/91 [==============================] - 0s 2ms/step\n",
      "5480/5480 [==============================] - 24s 4ms/step - loss: 6.2378 - accuracy: 0.3509\n",
      "91/91 [==============================] - 0s 3ms/step\n",
      "5480/5480 [==============================] - 25s 4ms/step - loss: 9.1503 - accuracy: 0.4337\n",
      "91/91 [==============================] - 0s 3ms/step\n",
      "5480/5480 [==============================] - 26s 4ms/step - loss: 3.3245 - accuracy: 0.4337\n",
      "91/91 [==============================] - 1s 3ms/step\n",
      "5480/5480 [==============================] - 24s 4ms/step - loss: 6.2378 - accuracy: 0.2160\n",
      "91/91 [==============================] - 0s 3ms/step\n",
      "5480/5480 [==============================] - 24s 4ms/step - loss: 9.1533 - accuracy: 0.3509\n",
      "91/91 [==============================] - 1s 3ms/step\n",
      "5480/5480 [==============================] - 23s 4ms/step - loss: 3.3945 - accuracy: 0.2187\n",
      "91/91 [==============================] - 0s 2ms/step\n",
      "5480/5480 [==============================] - 21s 4ms/step - loss: 9.1502 - accuracy: 0.2159\n",
      "91/91 [==============================] - 0s 3ms/step\n",
      "5480/5480 [==============================] - 25s 4ms/step - loss: 6.2336 - accuracy: 0.2163\n",
      "91/91 [==============================] - 0s 3ms/step\n",
      "5480/5480 [==============================] - 24s 4ms/step - loss: 9.1508 - accuracy: 0.4332\n",
      "91/91 [==============================] - 0s 2ms/step\n",
      "5480/5480 [==============================] - 23s 4ms/step - loss: 9.1480 - accuracy: 0.3505\n",
      "91/91 [==============================] - 0s 3ms/step\n",
      "5480/5480 [==============================] - 23s 4ms/step - loss: 3.3242 - accuracy: 0.4336\n",
      "91/91 [==============================] - 0s 3ms/step\n",
      "5480/5480 [==============================] - 24s 4ms/step - loss: 9.1467 - accuracy: 0.2412\n",
      "91/91 [==============================] - 0s 2ms/step\n",
      "5480/5480 [==============================] - 24s 4ms/step - loss: 6.2270 - accuracy: 0.3509\n",
      "91/91 [==============================] - 0s 3ms/step\n",
      "5480/5480 [==============================] - 25s 4ms/step - loss: 3.3403 - accuracy: 0.2164\n",
      "91/91 [==============================] - 0s 3ms/step\n",
      "5480/5480 [==============================] - 24s 4ms/step - loss: 6.2424 - accuracy: 0.3511\n",
      "91/91 [==============================] - 0s 3ms/step\n",
      "5480/5480 [==============================] - 24s 4ms/step - loss: 6.2418 - accuracy: 0.4347\n",
      "91/91 [==============================] - 0s 3ms/step\n",
      "5480/5480 [==============================] - 26s 4ms/step - loss: 6.2339 - accuracy: 0.4334\n",
      "91/91 [==============================] - 0s 2ms/step\n",
      "5480/5480 [==============================] - 25s 4ms/step - loss: 9.1530 - accuracy: 0.2159\n",
      "91/91 [==============================] - 0s 3ms/step\n",
      "5480/5480 [==============================] - 25s 4ms/step - loss: 9.1489 - accuracy: 0.2157\n",
      "91/91 [==============================] - 0s 3ms/step\n",
      "5480/5480 [==============================] - 23s 4ms/step - loss: 9.1553 - accuracy: 0.4327\n",
      "91/91 [==============================] - 0s 3ms/step\n",
      "5480/5480 [==============================] - 24s 4ms/step - loss: 9.1503 - accuracy: 0.4335\n",
      "91/91 [==============================] - 0s 2ms/step\n",
      "5480/5480 [==============================] - 24s 4ms/step - loss: 9.1509 - accuracy: 0.4337\n",
      "91/91 [==============================] - 0s 3ms/step\n",
      "5480/5480 [==============================] - 22s 4ms/step - loss: 6.2362 - accuracy: 0.2159\n",
      "91/91 [==============================] - 0s 3ms/step\n",
      "5480/5480 [==============================] - 23s 4ms/step - loss: 6.2373 - accuracy: 0.2161\n",
      "91/91 [==============================] - 0s 3ms/step\n",
      "5480/5480 [==============================] - 23s 4ms/step - loss: 9.1514 - accuracy: 0.4334\n",
      "91/91 [==============================] - 0s 3ms/step\n",
      "5480/5480 [==============================] - 20s 3ms/step - loss: 6.2395 - accuracy: 0.3503\n",
      "91/91 [==============================] - 0s 3ms/step\n",
      "5480/5480 [==============================] - 20s 3ms/step - loss: 6.2370 - accuracy: 0.3502\n",
      "91/91 [==============================] - 0s 3ms/step\n",
      "5480/5480 [==============================] - 22s 4ms/step - loss: 6.2350 - accuracy: 0.3503\n",
      "91/91 [==============================] - 0s 3ms/step\n",
      "5480/5480 [==============================] - 21s 4ms/step - loss: 9.1523 - accuracy: 0.3512\n",
      "91/91 [==============================] - 0s 3ms/step\n",
      "5480/5480 [==============================] - 22s 4ms/step - loss: 9.1476 - accuracy: 0.2156\n",
      "91/91 [==============================] - 0s 3ms/step\n",
      "5480/5480 [==============================] - 22s 4ms/step - loss: 6.2361 - accuracy: 0.3502\n",
      "91/91 [==============================] - 0s 2ms/step\n",
      "5480/5480 [==============================] - 21s 4ms/step - loss: 6.2365 - accuracy: 0.3503\n",
      "91/91 [==============================] - 0s 3ms/step\n",
      "5480/5480 [==============================] - 23s 4ms/step - loss: 9.1593 - accuracy: 0.3508\n",
      "91/91 [==============================] - 0s 3ms/step\n",
      "5480/5480 [==============================] - 21s 4ms/step - loss: 9.1483 - accuracy: 0.2155\n",
      "91/91 [==============================] - 0s 2ms/step\n",
      "5480/5480 [==============================] - 21s 4ms/step - loss: 9.1526 - accuracy: 0.3506\n",
      "91/91 [==============================] - 0s 3ms/step\n",
      "5480/5480 [==============================] - 22s 4ms/step - loss: 3.3409 - accuracy: 0.4347\n",
      "91/91 [==============================] - 0s 3ms/step\n",
      "5480/5480 [==============================] - 21s 4ms/step - loss: 9.1518 - accuracy: 0.4334\n",
      "91/91 [==============================] - 0s 2ms/step\n",
      "5480/5480 [==============================] - 23s 4ms/step - loss: 3.3199 - accuracy: 0.3510\n",
      "91/91 [==============================] - 0s 3ms/step\n",
      "5480/5480 [==============================] - 24s 4ms/step - loss: 12.0590 - accuracy: 0.4339\n",
      "91/91 [==============================] - 1s 3ms/step\n",
      "5480/5480 [==============================] - 22s 4ms/step - loss: 6.2301 - accuracy: 0.3510\n",
      "91/91 [==============================] - 0s 3ms/step\n",
      "5480/5480 [==============================] - 26s 4ms/step - loss: 6.2395 - accuracy: 0.2161\n",
      "91/91 [==============================] - 0s 2ms/step\n",
      "5480/5480 [==============================] - 26s 4ms/step - loss: 6.2354 - accuracy: 0.2160\n",
      "91/91 [==============================] - 0s 3ms/step\n",
      "5480/5480 [==============================] - 25s 4ms/step - loss: 6.2364 - accuracy: 0.2163\n",
      "91/91 [==============================] - 0s 3ms/step\n",
      "5480/5480 [==============================] - 26s 4ms/step - loss: 3.3284 - accuracy: 0.4334\n",
      "91/91 [==============================] - 0s 3ms/step\n",
      "5480/5480 [==============================] - 24s 4ms/step - loss: 6.2351 - accuracy: 0.4331\n",
      "91/91 [==============================] - 0s 3ms/step\n",
      "5480/5480 [==============================] - 26s 4ms/step - loss: 6.2486 - accuracy: 0.3504\n",
      "91/91 [==============================] - 0s 3ms/step\n",
      "5480/5480 [==============================] - 25s 4ms/step - loss: 6.2386 - accuracy: 0.2159\n",
      "91/91 [==============================] - 0s 3ms/step\n",
      "5480/5480 [==============================] - 23s 4ms/step - loss: 6.2331 - accuracy: 0.2162\n",
      "91/91 [==============================] - 1s 3ms/step\n",
      "5480/5480 [==============================] - 26s 4ms/step - loss: 12.0686 - accuracy: 0.4331\n",
      "91/91 [==============================] - 0s 2ms/step\n",
      "5480/5480 [==============================] - 24s 4ms/step - loss: 6.2390 - accuracy: 0.4339\n",
      "91/91 [==============================] - 0s 3ms/step\n",
      "5480/5480 [==============================] - 26s 4ms/step - loss: 9.1497 - accuracy: 0.3507\n",
      "91/91 [==============================] - 0s 2ms/step\n",
      "5480/5480 [==============================] - 25s 4ms/step - loss: 6.2364 - accuracy: 0.3809\n",
      "91/91 [==============================] - 0s 3ms/step\n",
      "5480/5480 [==============================] - 23s 4ms/step - loss: 6.2288 - accuracy: 0.4326\n",
      "91/91 [==============================] - 0s 3ms/step\n",
      "5480/5480 [==============================] - 24s 4ms/step - loss: 6.2396 - accuracy: 0.3510\n",
      "91/91 [==============================] - 0s 3ms/step\n",
      "5480/5480 [==============================] - 25s 4ms/step - loss: 6.2342 - accuracy: 0.4333\n",
      "91/91 [==============================] - 0s 2ms/step\n",
      "5480/5480 [==============================] - 28s 5ms/step - loss: 9.1445 - accuracy: 0.3497\n",
      "91/91 [==============================] - 1s 4ms/step\n",
      "5480/5480 [==============================] - 26s 4ms/step - loss: 9.1535 - accuracy: 0.3506\n",
      "91/91 [==============================] - 0s 3ms/step\n",
      "5480/5480 [==============================] - 24s 4ms/step - loss: 6.2328 - accuracy: 0.2159\n",
      "91/91 [==============================] - 0s 3ms/step\n",
      "5480/5480 [==============================] - 25s 4ms/step - loss: 3.3269 - accuracy: 0.2472\n",
      "91/91 [==============================] - 0s 3ms/step\n",
      "5480/5480 [==============================] - 24s 4ms/step - loss: 9.1566 - accuracy: 0.2162\n",
      "91/91 [==============================] - 0s 2ms/step\n",
      "5480/5480 [==============================] - 24s 4ms/step - loss: 12.0641 - accuracy: 0.4335\n",
      "91/91 [==============================] - 0s 3ms/step\n",
      "5480/5480 [==============================] - 26s 4ms/step - loss: 6.2894 - accuracy: 0.4327\n",
      "91/91 [==============================] - 1s 4ms/step\n",
      "5480/5480 [==============================] - 24s 4ms/step - loss: 6.2363 - accuracy: 0.4338\n",
      "91/91 [==============================] - 0s 2ms/step\n",
      "5480/5480 [==============================] - 25s 4ms/step - loss: 3.3289 - accuracy: 0.2159\n",
      "91/91 [==============================] - 0s 3ms/step\n",
      "5480/5480 [==============================] - 23s 4ms/step - loss: 9.1510 - accuracy: 0.3508\n",
      "91/91 [==============================] - 0s 3ms/step\n",
      "5480/5480 [==============================] - 22s 4ms/step - loss: 6.2395 - accuracy: 0.2157\n",
      "91/91 [==============================] - 0s 3ms/step\n",
      "5480/5480 [==============================] - 23s 4ms/step - loss: 6.2370 - accuracy: 0.4339\n",
      "91/91 [==============================] - 0s 3ms/step\n",
      "5480/5480 [==============================] - 23s 4ms/step - loss: 7.7646 - accuracy: 0.4335\n",
      "91/91 [==============================] - 0s 2ms/step\n",
      "5480/5480 [==============================] - 23s 4ms/step - loss: 9.1513 - accuracy: 0.4332\n",
      "91/91 [==============================] - 0s 3ms/step\n",
      "5480/5480 [==============================] - 23s 4ms/step - loss: 3.3297 - accuracy: 0.4339\n",
      "91/91 [==============================] - 0s 3ms/step\n",
      "5480/5480 [==============================] - 23s 4ms/step - loss: 12.0646 - accuracy: 0.4335\n",
      "91/91 [==============================] - 0s 3ms/step\n",
      "5480/5480 [==============================] - 23s 4ms/step - loss: 6.2372 - accuracy: 0.2160\n",
      "91/91 [==============================] - 0s 3ms/step\n",
      "5480/5480 [==============================] - 23s 4ms/step - loss: 6.2277 - accuracy: 0.2166\n",
      "91/91 [==============================] - 0s 3ms/step\n",
      "5480/5480 [==============================] - 22s 4ms/step - loss: 3.3323 - accuracy: 0.4338\n",
      "91/91 [==============================] - 0s 3ms/step\n",
      "5480/5480 [==============================] - 25s 4ms/step - loss: 6.2338 - accuracy: 0.3507\n",
      "91/91 [==============================] - 1s 4ms/step\n",
      "5480/5480 [==============================] - 25s 4ms/step - loss: 9.1443 - accuracy: 0.3497\n",
      "91/91 [==============================] - 0s 3ms/step\n",
      "5480/5480 [==============================] - 22s 4ms/step - loss: 6.2348 - accuracy: 0.4334\n",
      "91/91 [==============================] - 0s 3ms/step\n",
      "5480/5480 [==============================] - 22s 4ms/step - loss: 6.2334 - accuracy: 0.3511\n",
      "91/91 [==============================] - 0s 3ms/step\n",
      "5480/5480 [==============================] - 23s 4ms/step - loss: 9.1487 - accuracy: 0.3504\n",
      "91/91 [==============================] - 0s 2ms/step\n",
      "5480/5480 [==============================] - 23s 4ms/step - loss: 6.2307 - accuracy: 0.2162\n",
      "91/91 [==============================] - 0s 3ms/step\n",
      "5769/5769 [==============================] - 26s 4ms/step - loss: 6.2356 - accuracy: 0.4336\n"
     ]
    }
   ],
   "source": [
    "train_gs_out = grid_out.fit(X_train, y_train, verbose=1)"
   ]
  },
  {
   "cell_type": "code",
   "execution_count": 40,
   "metadata": {},
   "outputs": [
    {
     "data": {
      "text/plain": [
       "{'batch_size': 10, 'nb_epoch': 500, 'optimizer': 'SGD'}"
      ]
     },
     "execution_count": 40,
     "metadata": {},
     "output_type": "execute_result"
    }
   ],
   "source": [
    "grid_out.best_params_"
   ]
  },
  {
   "cell_type": "code",
   "execution_count": 41,
   "metadata": {},
   "outputs": [
    {
     "data": {
      "text/plain": [
       "0.35729002660948955"
      ]
     },
     "execution_count": 41,
     "metadata": {},
     "output_type": "execute_result"
    }
   ],
   "source": [
    "grid_out.best_score_"
   ]
  },
  {
   "cell_type": "code",
   "execution_count": 43,
   "metadata": {},
   "outputs": [
    {
     "name": "stdout",
     "output_type": "stream",
     "text": [
      "1803/1803 [==============================] - 5s 3ms/step\n",
      "              precision    recall  f1-score   support\n",
      "\n",
      "           0       0.43      1.00      0.60     25012\n",
      "           1       0.00      0.00      0.00     20221\n",
      "           2       0.00      0.00      0.00     12451\n",
      "\n",
      "    accuracy                           0.43     57684\n",
      "   macro avg       0.14      0.33      0.20     57684\n",
      "weighted avg       0.19      0.43      0.26     57684\n",
      "\n"
     ]
    },
    {
     "name": "stderr",
     "output_type": "stream",
     "text": [
      "c:\\Users\\apatz\\anaconda3\\lib\\site-packages\\sklearn\\metrics\\_classification.py:1318: UndefinedMetricWarning: Precision and F-score are ill-defined and being set to 0.0 in labels with no predicted samples. Use `zero_division` parameter to control this behavior.\n",
      "  _warn_prf(average, modifier, msg_start, len(result))\n",
      "c:\\Users\\apatz\\anaconda3\\lib\\site-packages\\sklearn\\metrics\\_classification.py:1318: UndefinedMetricWarning: Precision and F-score are ill-defined and being set to 0.0 in labels with no predicted samples. Use `zero_division` parameter to control this behavior.\n",
      "  _warn_prf(average, modifier, msg_start, len(result))\n",
      "c:\\Users\\apatz\\anaconda3\\lib\\site-packages\\sklearn\\metrics\\_classification.py:1318: UndefinedMetricWarning: Precision and F-score are ill-defined and being set to 0.0 in labels with no predicted samples. Use `zero_division` parameter to control this behavior.\n",
      "  _warn_prf(average, modifier, msg_start, len(result))\n"
     ]
    }
   ],
   "source": [
    "from sklearn.metrics import classification_report\n",
    "print(classification_report(y_train, grid_out.predict(X_train) ) )"
   ]
  }
 ],
 "metadata": {
  "kernelspec": {
   "display_name": "Python 3.9.12 ('base')",
   "language": "python",
   "name": "python3"
  },
  "language_info": {
   "codemirror_mode": {
    "name": "ipython",
    "version": 3
   },
   "file_extension": ".py",
   "mimetype": "text/x-python",
   "name": "python",
   "nbconvert_exporter": "python",
   "pygments_lexer": "ipython3",
   "version": "3.9.12"
  },
  "orig_nbformat": 4,
  "vscode": {
   "interpreter": {
    "hash": "721d5cc2a3432890c60d3b67ec7a8154d2297581962472e833721a025cc9dd92"
   }
  }
 },
 "nbformat": 4,
 "nbformat_minor": 2
}
